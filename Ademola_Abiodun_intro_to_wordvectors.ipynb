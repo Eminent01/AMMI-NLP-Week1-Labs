{
 "cells": [
  {
   "cell_type": "markdown",
   "metadata": {
    "id": "gysoslcWHDSO"
   },
   "source": [
    "\n",
    "<h1 style=\"font-family:verdana;font-size:300%;text-align:center;background-color:#f2f2f2;color:#0d0d0d\">AMMI NLP - Review sessions</h1>\n",
    "\n",
    "<h1 style=\"font-family:verdana;font-size:180%;text-align:Center;color:#993333\"> Lab 2: Introduction to wordvectors </h1>"
   ]
  },
  {
   "cell_type": "markdown",
   "metadata": {
    "id": "M1hHCkC9HDSQ"
   },
   "source": [
    "**Big thanks to Amr Khalifa who improved this lab and made it to a Jupyter Notebook!**"
   ]
  },
  {
   "cell_type": "code",
   "execution_count": 36,
   "metadata": {
    "colab": {
     "base_uri": "https://localhost:8080/"
    },
    "id": "7yV3cvhMs5PV",
    "outputId": "318b94f5-dd33-41f0-8a7c-265573b65461"
   },
   "outputs": [],
   "source": [
    "# from google.colab import drive\n",
    "# drive.mount('/content/drive')"
   ]
  },
  {
   "cell_type": "code",
   "execution_count": 37,
   "metadata": {
    "id": "MTCvUoTvHDSR"
   },
   "outputs": [],
   "source": [
    "import io, sys\n",
    "import numpy as np"
   ]
  },
  {
   "cell_type": "code",
   "execution_count": 38,
   "metadata": {
    "id": "STGnvkf5HDSR"
   },
   "outputs": [],
   "source": [
    "def load_vectors(filename):\n",
    "    fin = io.open(filename, 'r', encoding='utf-8', newline='\\n')\n",
    "    n, d = map(int, fin.readline().split())\n",
    "    data = {}\n",
    "    for line in fin:\n",
    "        tokens = line.rstrip().split(' ')\n",
    "        data[tokens[0]] = np.asarray([float(x) for x in tokens[1:]])\n",
    "    return data"
   ]
  },
  {
   "cell_type": "code",
   "execution_count": 39,
   "metadata": {
    "colab": {
     "base_uri": "https://localhost:8080/"
    },
    "id": "UrWuLAZlHDSS",
    "outputId": "ad39a612-5ab0-4d78-e1e2-d8d964a9225e"
   },
   "outputs": [
    {
     "name": "stdout",
     "output_type": "stream",
     "text": [
      "\n",
      " ** Word vectors ** \n",
      "\n",
      "<class 'numpy.ndarray'> 300\n"
     ]
    }
   ],
   "source": [
    "# Loading word vectors\n",
    "\n",
    "print('')\n",
    "print(' ** Word vectors ** ')\n",
    "print('')\n",
    "\n",
    "'''\n",
    "word_vectors is a dictionary that maps words to their numerical word vector\n",
    "[word (string)] = [np-array] \n",
    "'''\n",
    "word_vectors = load_vectors('wiki.en.vec')\n",
    "\n",
    "tree_vector = word_vectors['tree']\n",
    "print(type(tree_vector), len(tree_vector))"
   ]
  },
  {
   "cell_type": "code",
   "execution_count": 40,
   "metadata": {
    "colab": {
     "base_uri": "https://localhost:8080/"
    },
    "id": "rGkiv8Sa25h1",
    "outputId": "98f3bf45-a97c-4cae-f1f4-9198686a1449"
   },
   "outputs": [
    {
     "data": {
      "text/plain": [
       "array([-6.4335e-01,  3.3588e-01,  2.0019e-01,  6.5627e-01,  4.1080e-01,\n",
       "        5.5733e-01,  1.4003e+00, -4.0636e-01, -4.8350e-02, -7.6948e-02,\n",
       "       -4.5564e-01, -7.4799e-01, -8.2301e-01, -3.6638e-01,  4.1901e-01,\n",
       "        2.9539e-01,  8.0760e-01, -1.6980e-01,  2.2139e-01,  1.1320e+00,\n",
       "        8.2615e-01,  9.3482e-01,  2.6343e-01,  2.9629e-01, -5.1894e-01,\n",
       "        3.4338e-01,  4.5011e-01,  2.6287e-02,  3.4046e-01,  1.3436e+00,\n",
       "       -1.4811e-01,  1.1824e+00, -5.3155e-01,  7.2884e-01,  3.9830e-01,\n",
       "        3.4133e-01,  6.5147e-01, -3.8419e-01, -4.7090e-01, -6.2630e-01,\n",
       "        4.3416e-02, -6.3465e-01,  8.4712e-01,  1.6010e-01,  3.6419e-01,\n",
       "        9.1651e-01, -4.9169e-01, -6.8942e-02, -9.4771e-01, -4.3104e-01,\n",
       "       -1.6924e+00, -2.4642e-01, -2.8663e-01, -4.4464e-01, -8.7155e-01,\n",
       "       -4.9267e-01,  6.3439e-01, -7.3246e-02, -5.3316e-01,  3.3615e-02,\n",
       "       -8.4438e-01,  8.6490e-01,  2.9431e-01,  6.0450e-01,  7.3119e-02,\n",
       "       -1.2657e+00, -6.4906e-02,  6.4821e-01, -4.7547e-01,  8.2573e-01,\n",
       "       -1.1837e-01,  8.8974e-01,  6.4692e-01, -4.4871e-01, -5.3231e-01,\n",
       "        1.5645e+00, -8.7794e-01,  3.3798e-01, -1.3755e+00,  4.0837e-01,\n",
       "        8.1788e-01,  3.8976e-01,  7.2397e-01,  7.1402e-01,  1.0889e+00,\n",
       "        7.5195e-03,  4.9087e-01, -6.1326e-01,  9.0673e-01,  4.5811e-01,\n",
       "        2.2648e-01, -3.0483e-01,  5.9140e-02, -6.7304e-01, -5.0465e-01,\n",
       "        4.1402e-01, -1.9341e-01,  6.1356e-01, -6.2774e-01,  1.1316e+00,\n",
       "        1.7217e+00, -3.3268e-01,  4.6623e-01,  5.8763e-01,  3.8280e-02,\n",
       "       -1.4481e-01,  1.1602e+00, -2.2487e-01, -1.2932e-01, -9.3833e-02,\n",
       "        7.6912e-01, -4.6264e-01, -1.9606e-01, -9.9810e-01, -4.5966e-01,\n",
       "       -1.8481e+00,  8.4562e-01, -7.7969e-01, -3.6351e-01, -7.6655e-01,\n",
       "       -2.2833e-01,  1.0064e+00, -1.0228e+00,  6.0007e-01,  8.3898e-01,\n",
       "        8.5388e-01, -6.0152e-01, -1.9645e-01,  4.4490e-01, -6.1655e-02,\n",
       "       -1.4401e-01,  1.2888e+00, -4.9790e-01,  7.6213e-01,  1.1238e+00,\n",
       "       -5.7782e-01,  3.8866e-01, -5.2421e-01,  1.4331e+00,  2.4624e-01,\n",
       "       -7.3628e-01,  3.4874e-01,  8.0575e-01,  7.8006e-01, -5.7223e-01,\n",
       "        1.2831e+00,  9.3943e-01, -5.4213e-01,  8.4677e-02,  4.4271e-01,\n",
       "        3.5111e-01,  3.2946e-01, -8.6144e-01, -2.7914e-01, -3.9426e-01,\n",
       "       -1.2709e-01, -3.6265e-01,  6.2831e-02,  3.2355e-01,  1.3139e-01,\n",
       "        7.0402e-01,  2.7698e-01, -8.7759e-02, -7.1876e-03,  8.2554e-01,\n",
       "       -5.3967e-01, -5.4767e-01, -8.6725e-01,  1.7194e-01,  4.9995e-01,\n",
       "        4.4055e-01, -3.5212e-01, -3.3753e-01,  1.1150e+00,  2.9935e-01,\n",
       "       -2.0693e-01, -1.7585e-01, -1.7641e-01, -7.7871e-01, -1.4304e+00,\n",
       "        3.6749e-02, -7.6340e-02, -3.8578e-01, -1.7803e-01, -5.3115e-01,\n",
       "       -1.7707e-01,  1.8939e-01,  6.6939e-02, -2.5817e-02,  1.0447e-01,\n",
       "        2.8412e-01,  7.7288e-01, -3.5195e-01,  1.4473e+00, -5.5912e-01,\n",
       "       -7.5436e-01,  9.5966e-04, -3.4148e-01, -7.5724e-01, -1.3234e+00,\n",
       "        7.7934e-01, -8.8766e-01,  1.9885e-01, -4.9572e-01, -7.4885e-01,\n",
       "       -8.8526e-01,  1.5781e+00, -1.7222e+00,  6.2824e-01, -3.6263e-01,\n",
       "        2.1522e+00,  3.9502e-01,  1.1149e+00,  1.7030e-01, -1.7509e+00,\n",
       "        2.9264e-01,  4.8172e-01, -1.1328e+00, -6.6554e-01, -1.0607e-01,\n",
       "        1.4717e-01,  7.9691e-01,  1.7238e-01, -8.3775e-03,  6.9209e-01,\n",
       "       -2.3190e-01,  7.0998e-01,  8.2495e-02,  5.0730e-02, -9.0607e-01,\n",
       "       -9.7167e-01,  5.7369e-01, -2.2174e-01, -5.6734e-02, -3.0050e-01,\n",
       "        2.3470e-01,  2.0025e-01, -3.0395e-01, -3.6099e-01,  2.2284e-01,\n",
       "       -1.8185e-01, -3.8503e-02,  3.2430e-01, -1.6398e+00, -4.6082e-01,\n",
       "        3.1837e-01,  6.7429e-01, -5.1052e-01,  1.1672e-01,  1.4714e-01,\n",
       "        5.1770e-02,  1.9252e-01,  1.4670e-01,  6.3293e-01,  1.0045e+00,\n",
       "       -4.6138e-01,  9.3283e-02, -1.4197e+00,  9.8275e-01,  1.6665e-01,\n",
       "       -1.9165e-01, -9.9929e-01, -1.0802e-01,  7.8734e-01, -1.3005e+00,\n",
       "       -1.2797e+00, -5.2833e-01, -6.6756e-01, -1.1300e+00,  2.5568e-01,\n",
       "       -1.1232e-01, -5.7718e-01,  7.8200e-01,  1.0362e+00, -3.3697e-01,\n",
       "       -5.1019e-01,  1.3096e+00,  1.0163e+00,  1.4427e+00,  3.9021e-01,\n",
       "       -5.0682e-01,  1.6382e+00,  3.8051e-01, -1.2404e-01,  4.1185e-01,\n",
       "        2.1928e-01,  5.4181e-01, -8.6881e-01, -1.4108e+00, -2.8730e-01,\n",
       "       -1.1028e+00, -6.4102e-01,  2.8535e-01,  1.5560e-01, -5.2812e-01,\n",
       "        1.0056e+00, -7.6554e-01,  6.4053e-01,  3.0711e-01,  8.1204e-01])"
      ]
     },
     "execution_count": 40,
     "metadata": {},
     "output_type": "execute_result"
    }
   ],
   "source": [
    "word_vectors['timezone']"
   ]
  },
  {
   "cell_type": "code",
   "execution_count": 41,
   "metadata": {
    "id": "xVSHnSt9HDSS"
   },
   "outputs": [],
   "source": [
    "## This function computes the cosine similarity between vectors u and v\n",
    "import numpy as np\n",
    "def cosine(u, v):\n",
    "    '''\n",
    "    Parameters:\n",
    "    u : 1-D numpy array\n",
    "    v : 1-D numpy array \n",
    "    \n",
    "    Returns:\n",
    "    cos (float) : value of the cosine similairy between vectors u, v \n",
    "    '''\n",
    "    # num= u@v\n",
    "    # den = np.linalg.norm(u) * np.linalg.norm(u)\n",
    "    cos = u.T@v / (np.linalg.norm(u) * np.linalg.norm(v))\n",
    "    ## FILL CODE\n",
    "    \n",
    "    return cos \n"
   ]
  },
  {
   "cell_type": "code",
   "execution_count": 42,
   "metadata": {
    "colab": {
     "base_uri": "https://localhost:8080/"
    },
    "id": "Dz8kawoNHDSS",
    "outputId": "adea09fe-2444-48b6-ea19-9f3cf584ac55"
   },
   "outputs": [
    {
     "name": "stdout",
     "output_type": "stream",
     "text": [
      "similarity(apple, apples) = 0.637\n",
      "similarity(apple, banana) = 0.431\n",
      "similarity(apple, tiger) = 0.212\n"
     ]
    }
   ],
   "source": [
    "# compute similarity between words\n",
    "\n",
    "print('similarity(apple, apples) = %.3f' %\n",
    "      cosine(word_vectors['apple'], word_vectors['apples']))\n",
    "print('similarity(apple, banana) = %.3f' %\n",
    "      cosine(word_vectors['apple'], word_vectors['banana']))\n",
    "print('similarity(apple, tiger) = %.3f' %\n",
    "      cosine(word_vectors['apple'], word_vectors['tiger']))"
   ]
  },
  {
   "cell_type": "code",
   "execution_count": 43,
   "metadata": {
    "id": "su8YSRHWHDST"
   },
   "outputs": [],
   "source": [
    "## Functions for nearest neighbor\n",
    "## This function returns the word corresponding to \n",
    "## nearest neighbor vector of x\n",
    "## The list exclude_words can be used to exclude some\n",
    "## words from the nearest neighbors search\n",
    "\n",
    "def nearest_neighbor(x, word_vectors, exclude_words=[]):\n",
    "    '''\n",
    "    Parameters:\n",
    "    x (string): word to find its nearest neighbour \n",
    "    word_vectors (Python dict): {word (string): np-array of word vector}\n",
    "    exclude_words (list of strings): words to be excluded from the search\n",
    "    \n",
    "    Returns:\n",
    "    best_word (string) : the word whose word vector is the nearest neighbour \n",
    "    to the word vector of x\n",
    "    '''\n",
    "\n",
    "\n",
    "    \n",
    "    best_score = -1.0\n",
    "    best_word = None\n",
    "\n",
    "    # ## FILL CODE\n",
    "    for word, label in word_vectors.items():\n",
    "      s=cosine(x,label)\n",
    "      if word not in exclude_words and s > best_score:\n",
    "      # cosine(x, word_vectors[word][label])\n",
    "        \n",
    "       \n",
    "          \n",
    "        best_score = s\n",
    "        best_word =word\n",
    "    \n",
    "      #   if cosine > 0.5:\n",
    "      #     return word_vectors[label]\n",
    "      #   else:\n",
    "      #     return None\n",
    "\n",
    "\n",
    "            \n",
    "    return best_word\n"
   ]
  },
  {
   "cell_type": "code",
   "execution_count": 44,
   "metadata": {
    "colab": {
     "base_uri": "https://localhost:8080/"
    },
    "id": "-ZUO3q41HDST",
    "outputId": "a278e75b-14be-407d-8f53-6cd57c060a74"
   },
   "outputs": [
    {
     "name": "stdout",
     "output_type": "stream",
     "text": [
      "\n",
      "The nearest neighbor of cat is: dog\n"
     ]
    }
   ],
   "source": [
    "print('')\n",
    "print('The nearest neighbor of cat is:',\n",
    "  nearest_neighbor(word_vectors['cat'], word_vectors, exclude_words = ['cat', 'cats']))"
   ]
  },
  {
   "cell_type": "markdown",
   "metadata": {
    "id": "6yFpjlHWHDSU"
   },
   "source": [
    "#### Hint (using python priorty queues with the heapq datastructure): \n",
    "if you don't want to store all the words and scores you can use the priortiy queue and only store the best K element so far. "
   ]
  },
  {
   "cell_type": "code",
   "execution_count": 45,
   "metadata": {
    "id": "r4sitV6cHDSU"
   },
   "outputs": [],
   "source": [
    "from heapq import heapify, heappush, heappop\n",
    "## This function return the words corresponding to the\n",
    "## K nearest neighbors of vector x.\n",
    "## You can use the functions heappush and heappop.\n",
    "\n",
    "def knn(x, vectors, k):\n",
    "    '''\n",
    "    Parameters:\n",
    "    x (string): word to find its nearest neighbour \n",
    "    word_vectors (Python dict): {word (string): np-array of word vector}\n",
    "    k (int): number of nearest neighbours to be found\n",
    "    \n",
    "    Returns: \n",
    "    k_nearest_neighbors (list of tuples): [(score, word), (score, word), ....]\n",
    "    '''\n",
    "\n",
    "    k_nearest_neighbors =[ (-1.0, None) for i in range(k)]\n",
    "    ## FILL CODE\n",
    "    for word, label in vectors.items():\n",
    "      s=cosine(x, label)\n",
    "      if any([s >l for l,_ in  k_nearest_neighbors]):\n",
    "        heappop(k_nearest_neighbors)\n",
    "        heappush(k_nearest_neighbors, (s,word))\n",
    "      \n",
    "\n",
    "\n",
    "        \n",
    "    return k_nearest_neighbors\n",
    "    # return k_nearest_neighbors\n",
    "# knn(word_vectors['cat'], word_vectors, 5)"
   ]
  },
  {
   "cell_type": "code",
   "execution_count": 46,
   "metadata": {
    "colab": {
     "base_uri": "https://localhost:8080/"
    },
    "id": "ioPEHHdpHDSU",
    "outputId": "3ab78eaa-b8ba-4639-ea79-1e393f055c37"
   },
   "outputs": [
    {
     "name": "stdout",
     "output_type": "stream",
     "text": [
      "\n",
      "cat\n",
      "--------------\n",
      "dogs\t0.538\n",
      "dog\t0.638\n",
      "rabbit\t0.549\n",
      "cat\t1.000\n",
      "cats\t0.732\n",
      "pet\t0.573\n"
     ]
    }
   ],
   "source": [
    "knn_cat = knn(word_vectors['cat'], word_vectors, 6)\n",
    "print('')\n",
    "print('cat')\n",
    "print('--------------')\n",
    "for score, word in knn(word_vectors['cat'], word_vectors, 6):\n",
    "    print (word + '\\t%.3f' % score)\n"
   ]
  },
  {
   "cell_type": "markdown",
   "metadata": {
    "id": "DzaqJxf1HDSU"
   },
   "source": [
    "#### Hint: \n",
    "To find the analogies, we find the nearest neighbour associated with the wordvector d\n",
    "$$ d = \\frac{c}{\\Vert {c} \\Vert} + \\frac{b}{\\Vert {b} \\Vert} - \\frac{a}{\\Vert {a} \\Vert}$$\n"
   ]
  },
  {
   "cell_type": "code",
   "execution_count": 47,
   "metadata": {
    "id": "-pDDK4QSHDSV"
   },
   "outputs": [],
   "source": [
    "## This function return the words d, such that a:b and c:d\n",
    "## verifies the same relation\n",
    "import numpy as np\n",
    "def analogy(a, b, c, word_vectors):\n",
    "    '''\n",
    "    Parameters:\n",
    "    a (string): word a\n",
    "    b (string): word b\n",
    "    c (string): word c\n",
    "    word_vectors (Python dict): {word (string): np-array of word vector}\n",
    "    \n",
    "    Returnrs: \n",
    "    the word d (string) associated with c such that c:d is similar to a:b \n",
    "    \n",
    "    '''\n",
    "    \n",
    "    ## FILL CODE\n",
    "    one = word_vectors[c]/np.linalg.norm(word_vectors[c]) \n",
    "    two = word_vectors[b]/np.linalg.norm(word_vectors[b])\n",
    "    three = word_vectors[a]/np.linalg.norm(word_vectors[a])\n",
    "    d = one + two - three\n",
    "    answer= nearest_neighbor(d, word_vectors, exclude_words=[])\n",
    "\n",
    "    return answer\n"
   ]
  },
  {
   "cell_type": "code",
   "execution_count": 48,
   "metadata": {
    "colab": {
     "base_uri": "https://localhost:8080/"
    },
    "id": "ALU0WF0rHDSV",
    "outputId": "bb8f5e1f-e294-448f-9327-dd76309afb22"
   },
   "outputs": [
    {
     "name": "stdout",
     "output_type": "stream",
     "text": [
      "\n",
      "france - paris + rome =  italy\n"
     ]
    }
   ],
   "source": [
    "# Word analogies\n",
    "\n",
    "print('')\n",
    "print('france - paris + rome = ' , analogy('paris', 'france', 'rome', word_vectors))"
   ]
  },
  {
   "cell_type": "markdown",
   "metadata": {
    "id": "l2ZgkRUNHDSV"
   },
   "source": [
    "## A word about biases in word vectors"
   ]
  },
  {
   "cell_type": "code",
   "execution_count": 49,
   "metadata": {
    "colab": {
     "base_uri": "https://localhost:8080/"
    },
    "id": "-BpuFRrwHDSV",
    "outputId": "2c47f3fe-c70b-4e39-ce2e-c3be45e6bef6"
   },
   "outputs": [
    {
     "name": "stdout",
     "output_type": "stream",
     "text": [
      "\n",
      "similarity(genius, man) = 0.445\n",
      "similarity(genius, woman) = 0.325\n"
     ]
    }
   ],
   "source": [
    "## A word about biases in word vectors:\n",
    "\n",
    "print('')\n",
    "print('similarity(genius, man) = %.3f' %\n",
    "      cosine(word_vectors['man'], word_vectors['genius']))\n",
    "print('similarity(genius, woman) = %.3f' %\n",
    "      cosine(word_vectors['woman'], word_vectors['genius']))"
   ]
  },
  {
   "cell_type": "code",
   "execution_count": 50,
   "metadata": {
    "id": "7kjkg7W9HDSV"
   },
   "outputs": [],
   "source": [
    "## Compute the association strength between:\n",
    "##   - a word w\n",
    "##   - two sets of attributes A and B\n",
    "\n",
    "def association_strength(w, A, B, vectors):\n",
    "    '''\n",
    "    Parameters:\n",
    "    w (string): word w\n",
    "    A (list of strings): The words belonging to set A\n",
    "    B (list of strings): The words belonging to set B\n",
    "    vectors (Python dict): {word (string): np-array of word vector}\n",
    "    \n",
    "    Returnrs: \n",
    "    strength (float): the value of the association strength \n",
    "    '''\n",
    "    \n",
    "    strength = 0.0\n",
    "    part_a =len(A)\n",
    "    part_b =len(B) \n",
    "    \n",
    "    ## FILL CODE\n",
    "    for i in A:\n",
    "      strength +=  cosine(vectors[w],vectors[i])/part_a\n",
    "\n",
    "    for j in B:\n",
    "      strength -= cosine(vectors[w],vectors[j]) /part_b\n",
    "    \n",
    "\n",
    "    return strength"
   ]
  },
  {
   "cell_type": "code",
   "execution_count": 51,
   "metadata": {
    "id": "kjnDruW2HDSV"
   },
   "outputs": [],
   "source": [
    "## Perform the word embedding association test between:\n",
    "##   - two sets of words X and Y\n",
    "##   - two sets of attributes A and B\n",
    "\n",
    "def weat(X, Y, A, B, vectors):\n",
    "    '''\n",
    "    Parameters:\n",
    "    X (list of strings): The words belonging to set X\n",
    "    Y (list of strings): The words belonging to set Y\n",
    "    A (list of strings): The words belonging to set A\n",
    "    B (list of strings): The words belonging to set B\n",
    "    vectors (Python dict): {word (string): np-array of word vector}\n",
    "    \n",
    "    Returns: \n",
    "    score (float): the value of the group association strength  \n",
    "    '''\n",
    "    \n",
    "    score = 0.0\n",
    "    score_1 =0.0\n",
    "    score_2 =0.0\n",
    "    ## FILL CODE\n",
    "    for i in X:\n",
    "      score_1 += association_strength(i, A, B, vectors)\n",
    "    \n",
    "    for j in Y:\n",
    "      score_2 += association_strength(j, A, B, vectors)\n",
    "\n",
    "    score = score_1 - score_2\n",
    "    return score"
   ]
  },
  {
   "cell_type": "code",
   "execution_count": 52,
   "metadata": {
    "colab": {
     "base_uri": "https://localhost:8080/"
    },
    "id": "G8HWsmRlHDSW",
    "outputId": "fdc54dcb-5a02-4e7f-ac83-329c2bd20033"
   },
   "outputs": [
    {
     "name": "stdout",
     "output_type": "stream",
     "text": [
      "\n",
      "Word embedding association test: 0.847\n"
     ]
    }
   ],
   "source": [
    "## Replicate one of the experiments from:\n",
    "##\n",
    "## Semantics derived automatically from language corpora contain human-like biases\n",
    "## Caliskan, Bryson, Narayanan (2017)\n",
    "\n",
    "career = ['executive', 'management', 'professional', 'corporation', \n",
    "          'salary', 'office', 'business', 'career']\n",
    "family = ['home', 'parents', 'children', 'family',\n",
    "          'cousins', 'marriage', 'wedding', 'relatives']\n",
    "male = ['john', 'paul', 'mike', 'kevin', 'steve', 'greg', 'jeff', 'bill']\n",
    "female = ['amy', 'joan', 'lisa', 'sarah', 'diana', 'kate', 'ann', 'donna']\n",
    "\n",
    "print('')\n",
    "print('Word embedding association test: %.3f' %\n",
    "      weat(career, family, male, female, word_vectors))"
   ]
  },
  {
   "cell_type": "markdown",
   "metadata": {
    "id": "u6IjGwfsHDSW"
   },
   "source": [
    "## Word translation using word vectors\n",
    "\n",
    "In the following, we will use word vectors in English and French to translate words from English to French. The idea is to learn a linear function that maps English word vectors to their correponding French word vectors. To learn this linear mapping, we will use a small bilingual lexicon, that contains pairs of words in English and French that are translations of each other.\n",
    "\n",
    "The following function will load the small English-French bilingual lexicon:"
   ]
  },
  {
   "cell_type": "code",
   "execution_count": 53,
   "metadata": {
    "id": "cjfsWBxNHDSW"
   },
   "outputs": [],
   "source": [
    "def load_lexicon(filename):\n",
    "    '''\n",
    "    Parameters:\n",
    "    filename(string): the path of the lexicon\n",
    "    \n",
    "    Returns:\n",
    "    data(list of pairs of string): the bilingual lexicon\n",
    "    '''\n",
    "    fin = io.open(filename, 'r', encoding='utf-8', newline='\\n')\n",
    "    data = []\n",
    "    for line in fin:\n",
    "        a, b = line.rstrip().split(' ')\n",
    "        data.append((a, b))\n",
    "    return data"
   ]
  },
  {
   "cell_type": "code",
   "execution_count": 54,
   "metadata": {
    "colab": {
     "base_uri": "https://localhost:8080/"
    },
    "id": "J4ntHIi0HDSW",
    "outputId": "6ad16be8-b274-4e4c-aa75-5a8dc4445189"
   },
   "outputs": [
    {
     "name": "stdout",
     "output_type": "stream",
     "text": [
      "[('the', 'le'), ('the', 'les'), ('the', 'la'), ('and', 'et'), ('was', 'fut')]\n"
     ]
    }
   ],
   "source": [
    "word_vectors_en = load_vectors('wiki.en.vec')\n",
    "word_vectors_fr = load_vectors('wiki.fr.vec')\n",
    "lexicon = load_lexicon(\"lexicon-en-fr.txt\")\n",
    "print(lexicon[:5])"
   ]
  },
  {
   "cell_type": "code",
   "execution_count": 55,
   "metadata": {
    "id": "B0vnfDlUHDSW"
   },
   "outputs": [],
   "source": [
    "# We split the lexicon into a train and validation set\n",
    "train = lexicon[:5000]\n",
    "valid = lexicon[5000:5100]"
   ]
  },
  {
   "cell_type": "markdown",
   "metadata": {
    "id": "4jn4se6uHDSW"
   },
   "source": [
    "The following function will learn the mapping from English to French. The idea is to build two matrices $X_{\\text{en}}$ and $X_{\\text{fr}}$, and to find a mapping $M$ that minimizes $||X_{\\text{en}} W - X_{\\text{fr}} ||_2$. In numpy, this mapping can be obtained by using the `numpy.linalg.lstsq` function."
   ]
  },
  {
   "cell_type": "code",
   "execution_count": 56,
   "metadata": {
    "id": "pGCxtmboHDSW"
   },
   "outputs": [],
   "source": [
    "def align(word_vectors_en, word_vectors_fr, lexicon):\n",
    "    '''\n",
    "    Parameters:\n",
    "    word_vectors_en(dict: string -> np.array): English word vectors\n",
    "    word_vectors_en(dict: string -> np.array): French word vectors\n",
    "    lexicon(list of pairs of string): bilingual training lexicon\n",
    "    \n",
    "    Returns\n",
    "    mapping(np.array): the mapping from English to French vectors\n",
    "    '''\n",
    "    x_en, x_fr = [], []\n",
    "    for words in lexicon:\n",
    "      x_en.append(word_vectors_en[words[0]])\n",
    "\n",
    "      x_fr.append(word_vectors_fr[words[1]])\n",
    "\n",
    "    \n",
    "    \n",
    "    mapping=np.linalg.lstsq(np.array(x_en),np.array(x_fr))\n",
    "    \n",
    "    ## FILL CODE\n",
    "    \n",
    "    return mapping[0]"
   ]
  },
  {
   "cell_type": "code",
   "execution_count": null,
   "metadata": {
    "id": "bNpBo_gxoYrf"
   },
   "outputs": [],
   "source": []
  },
  {
   "cell_type": "code",
   "execution_count": 57,
   "metadata": {
    "colab": {
     "base_uri": "https://localhost:8080/"
    },
    "id": "SB3pEO2XHDSW",
    "outputId": "c6bd2fdc-468d-4c8c-970e-4a7e77587eb5"
   },
   "outputs": [
    {
     "name": "stdout",
     "output_type": "stream",
     "text": [
      "[[-0.06183285 -0.01071552  0.00175985 ... -0.01107046  0.01629405\n",
      "  -0.01644996]\n",
      " [-0.01655313 -0.02930488  0.09810107 ... -0.01744702 -0.02848298\n",
      "   0.02070179]\n",
      " [-0.01970861 -0.0147154   0.01231819 ...  0.03036093 -0.00209909\n",
      "  -0.00944313]\n",
      " ...\n",
      " [ 0.0669847   0.02351181  0.02041902 ...  0.00886501  0.08635366\n",
      "   0.00595836]\n",
      " [ 0.01936122  0.00552446  0.01234669 ... -0.00623332 -0.05116348\n",
      "   0.05634361]\n",
      " [ 0.00530333 -0.03424679 -0.03369923 ... -0.01344391 -0.00051053\n",
      "  -0.00491391]]\n"
     ]
    },
    {
     "name": "stderr",
     "output_type": "stream",
     "text": [
      "/var/folders/tx/shpgr2bd7f17c4xcnkyw5w2h0000gn/T/ipykernel_99860/1666003598.py:19: FutureWarning: `rcond` parameter will change to the default of machine precision times ``max(M, N)`` where M and N are the input matrix dimensions.\n",
      "To use the future default and silence this warning we advise to pass `rcond=None`, to keep using the old, explicitly pass `rcond=-1`.\n",
      "  mapping=np.linalg.lstsq(np.array(x_en),np.array(x_fr))\n"
     ]
    }
   ],
   "source": [
    "mapping = align(word_vectors_en, word_vectors_fr, lexicon)\n",
    "print(mapping)"
   ]
  },
  {
   "cell_type": "markdown",
   "metadata": {
    "id": "Cex9YztBHDSW"
   },
   "source": [
    "Given a mapping, a set of word English word vector and French word vectors, the next function will translate the English word to French. To do so, we apply the mapping on the English word, and retrieve the nearest neighbor of the obtained vector in the set of French word vectors. The translation is then the corresponding French word."
   ]
  },
  {
   "cell_type": "code",
   "execution_count": 65,
   "metadata": {
    "id": "gXi6rRqKHDSW"
   },
   "outputs": [],
   "source": [
    "def translate(word, word_vectors_en, word_vectors_fr, mapping):\n",
    "    '''\n",
    "    Parameters:\n",
    "    word(string): an English word\n",
    "    word_vectors_en(dict: string -> np.array): English word vectors\n",
    "    word_vectors_en(dict: string -> np.array): French word vectors\n",
    "    mapping(np.array): the mapping from English to French vectors\n",
    "    \n",
    "    Returns\n",
    "    A string containing the translation of the English word\n",
    "    '''\n",
    "    \n",
    "    ## FILL CODE\n",
    "  # word = word_vectors_eng[word]\n",
    "    vec_en =word_vectors_en[word]\n",
    "    vec_fr= vec_en@mapping\n",
    "    \n",
    "\n",
    "    # en_vec=word_vector\n",
    "    # _a = a@mapping[0]\n",
    "    # _trans = knn(_a, word_vectors_fr, 1)\n",
    "    trans =nearest_neighbor(vec_fr, word_vectors_fr)\n",
    "\n",
    "    return   trans"
   ]
  },
  {
   "cell_type": "code",
   "execution_count": 66,
   "metadata": {
    "colab": {
     "base_uri": "https://localhost:8080/"
    },
    "id": "I6kKDaFlHDSX",
    "outputId": "fc07bf29-6a1c-43c4-9152-73de6f75b0be"
   },
   "outputs": [
    {
     "name": "stdout",
     "output_type": "stream",
     "text": [
      "monde\n",
      "machine\n",
      "apprentissage\n"
     ]
    }
   ],
   "source": [
    "print(translate(\"world\", word_vectors_en, word_vectors_fr, mapping))\n",
    "print(translate(\"machine\", word_vectors_en, word_vectors_fr, mapping))\n",
    "print(translate(\"learning\", word_vectors_en, word_vectors_fr, mapping))"
   ]
  },
  {
   "cell_type": "markdown",
   "metadata": {
    "id": "Y27zp2rHHDSX"
   },
   "source": [
    "Finally, let's implement a function to evaluate this method on the validation lexicon:"
   ]
  },
  {
   "cell_type": "code",
   "execution_count": 67,
   "metadata": {
    "id": "FzuYguq3HDSX"
   },
   "outputs": [],
   "source": [
    "def evaluate(valid, word_vectors_en, word_vectors_fr, mapping):\n",
    "    '''\n",
    "    Parameters:\n",
    "    valid(a list of pairs of string): the validation lexicon\n",
    "    word_vectors_en(dict: string -> np.array): English word vectors\n",
    "    word_vectors_en(dict: string -> np.array): French word vectors\n",
    "    mapping(np.array): the mapping from English to French vectors\n",
    "    \n",
    "    Returns\n",
    "    Accuracy(float): the accuracy on the validation lexicon\n",
    "    '''\n",
    "    acc, n = 0.0, len(valid)\n",
    "    for en, fr in valid:\n",
    "      pred=translate(en, word_vectors_en, word_vectors_fr, mapping)\n",
    "      if pred==fr:\n",
    "        acc+=1\n",
    "    ## FILL CODE\n",
    "\n",
    "    return acc/n"
   ]
  },
  {
   "cell_type": "code",
   "execution_count": 68,
   "metadata": {
    "colab": {
     "base_uri": "https://localhost:8080/"
    },
    "id": "Zg5czRYoHDSX",
    "outputId": "5bd3ed62-797b-418f-e7a1-cf04c6cebc67"
   },
   "outputs": [
    {
     "data": {
      "text/plain": [
       "0.64"
      ]
     },
     "execution_count": 68,
     "metadata": {},
     "output_type": "execute_result"
    }
   ],
   "source": [
    "evaluate(valid, word_vectors_en, word_vectors_fr, mapping)"
   ]
  },
  {
   "cell_type": "code",
   "execution_count": null,
   "metadata": {
    "id": "29aF6gCaHDSX"
   },
   "outputs": [],
   "source": []
  }
 ],
 "metadata": {
  "colab": {
   "collapsed_sections": [],
   "name": "Copy of intro_to_wordvectors.ipynb",
   "provenance": []
  },
  "kernelspec": {
   "display_name": "Python 3 (ipykernel)",
   "language": "python",
   "name": "python3"
  },
  "language_info": {
   "codemirror_mode": {
    "name": "ipython",
    "version": 3
   },
   "file_extension": ".py",
   "mimetype": "text/x-python",
   "name": "python",
   "nbconvert_exporter": "python",
   "pygments_lexer": "ipython3",
   "version": "3.9.7"
  }
 },
 "nbformat": 4,
 "nbformat_minor": 1
}
