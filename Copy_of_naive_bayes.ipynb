{
  "cells": [
    {
      "cell_type": "markdown",
      "metadata": {
        "id": "view-in-github",
        "colab_type": "text"
      },
      "source": [
        "<a href=\"https://colab.research.google.com/github/Eminent01/NLP-Lab-1/blob/main/Copy_of_naive_bayes.ipynb\" target=\"_parent\"><img src=\"https://colab.research.google.com/assets/colab-badge.svg\" alt=\"Open In Colab\"/></a>"
      ]
    },
    {
      "cell_type": "markdown",
      "metadata": {
        "id": "BsMMOz9-WdCV"
      },
      "source": [
        "The goal of this lab is to implement a language identifier (LID).\n",
        "\n",
        "Our first model will be based on Naive Bayes."
      ]
    },
    {
      "cell_type": "code",
      "source": [
        "from google.colab import drive\n",
        "drive.mount('/content/drive')"
      ],
      "metadata": {
        "colab": {
          "base_uri": "https://localhost:8080/"
        },
        "id": "8-CIwhEeYVPR",
        "outputId": "2b816ab1-31b1-42b9-af95-22841dc87ad8"
      },
      "execution_count": 2,
      "outputs": [
        {
          "output_type": "stream",
          "name": "stdout",
          "text": [
            "Mounted at /content/drive\n"
          ]
        }
      ]
    },
    {
      "cell_type": "code",
      "execution_count": 3,
      "metadata": {
        "id": "bBhQUmXfWdCZ"
      },
      "outputs": [],
      "source": [
        "import io, sys, math, re\n",
        "from collections import defaultdict"
      ]
    },
    {
      "cell_type": "markdown",
      "metadata": {
        "id": "PvxpZkSpWdCb"
      },
      "source": [
        "The next function is used to load the data. Each line of the data consist of a label (corresponding to a language), followed by some text, written in that language. Here is an example of data:\n",
        "\n",
        "```__label__de Zur Namensdeutung gibt es mehrere Varianten.```\n"
      ]
    },
    {
      "cell_type": "code",
      "execution_count": 4,
      "metadata": {
        "id": "wxqVm3iTWdCb"
      },
      "outputs": [],
      "source": [
        "def load_data(filename):\n",
        "    fin = io.open(filename, 'r', encoding='utf-8')\n",
        "    data = []\n",
        "    for line in fin:\n",
        "        tokens = line.split()\n",
        "        data.append((tokens[0], tokens[1:]))\n",
        "    return data"
      ]
    },
    {
      "cell_type": "markdown",
      "metadata": {
        "id": "ITurIYkQWdCc"
      },
      "source": [
        "You can now try loading the first dataset `train1.txt` and look what examples look like."
      ]
    },
    {
      "cell_type": "code",
      "source": [
        "train1=\"/content/drive/MyDrive/NLP_Week_1_Labs_2022/session1/train1.txt\""
      ],
      "metadata": {
        "id": "ORR6RVdQZKCa"
      },
      "execution_count": 11,
      "outputs": []
    },
    {
      "cell_type": "code",
      "execution_count": 12,
      "metadata": {
        "id": "jSBYI0SEWdCc",
        "colab": {
          "base_uri": "https://localhost:8080/"
        },
        "outputId": "05bf14bd-0833-477b-e7d5-d5a093584fdd"
      },
      "outputs": [
        {
          "output_type": "stream",
          "name": "stdout",
          "text": [
            "('__label__de', ['Ich', 'würde', 'alles', 'tun,', 'um', 'dich', 'zu', 'beschützen.'])\n"
          ]
        }
      ],
      "source": [
        "data = load_data(train1)\n",
        "print(data[0])"
      ]
    },
    {
      "cell_type": "code",
      "source": [
        "len(data[0])"
      ],
      "metadata": {
        "colab": {
          "base_uri": "https://localhost:8080/"
        },
        "id": "HQgZjDc9eO5Z",
        "outputId": "f6c4180c-4512-4dc3-a220-4884255368d2"
      },
      "execution_count": 43,
      "outputs": [
        {
          "output_type": "execute_result",
          "data": {
            "text/plain": [
              "2"
            ]
          },
          "metadata": {},
          "execution_count": 43
        }
      ]
    },
    {
      "cell_type": "code",
      "source": [
        "len(data)"
      ],
      "metadata": {
        "colab": {
          "base_uri": "https://localhost:8080/"
        },
        "id": "PGG2EF-tgvqX",
        "outputId": "f5e42671-3895-4084-c7ba-8ab08b29e99f"
      },
      "execution_count": 36,
      "outputs": [
        {
          "output_type": "execute_result",
          "data": {
            "text/plain": [
              "10000"
            ]
          },
          "metadata": {},
          "execution_count": 36
        }
      ]
    },
    {
      "cell_type": "markdown",
      "metadata": {
        "id": "aAfxT5V0WdCd"
      },
      "source": [
        "Next, we will start implementing the Naive Bayes method. This technique is based on word counts, and we thus need to start by implementing a function to count the words and labels of our training set.\n",
        "\n",
        "`n_examples` is the total number of examples\n",
        "\n",
        "`n_words_per_label` is the total number of words for a given label\n",
        "\n",
        "`label_counts` is the number of times a given label appears in the training data\n",
        "\n",
        "`word_counts` is the number of times a word appears with a given label"
      ]
    },
    {
      "cell_type": "code",
      "source": [
        "def count_words(data):\n",
        "    n_examples = 0\n",
        "    n_words_per_label = defaultdict(lambda: 0)\n",
        "    label_counts = defaultdict(lambda: 0)\n",
        "    word_counts = defaultdict(lambda: defaultdict(lambda: 0.0))\n",
        "\n",
        "    for example in data:\n",
        "        label, sentence = example\n",
        "        n_examples += 1\n",
        "        label_counts[label] +=1\n",
        "\n",
        "        for word in sentence:\n",
        "          \n",
        "          word_counts[word][label]+=1\n",
        "        n_words_per_label[label] += len(sentence)\n",
        "          \n",
        "        ## FILL CODE\n",
        "\n",
        "    return {'label_counts': label_counts,\n",
        "            'n_examples': n_examples,\n",
        "            'word_counts': word_counts,\n",
        "            'n_words_per_label': n_words_per_label} "
      ],
      "metadata": {
        "id": "ArgMObSJbZZa"
      },
      "execution_count": 6,
      "outputs": []
    },
    {
      "cell_type": "code",
      "source": [
        "count=count_words(data)"
      ],
      "metadata": {
        "id": "NwnG_H1Xb0kY"
      },
      "execution_count": 13,
      "outputs": []
    },
    {
      "cell_type": "code",
      "source": [
        "count['n_words_per_label']"
      ],
      "metadata": {
        "colab": {
          "base_uri": "https://localhost:8080/"
        },
        "id": "m85Xi87q1p6f",
        "outputId": "ec252a80-072b-4ba3-b826-564476d6f469"
      },
      "execution_count": 122,
      "outputs": [
        {
          "output_type": "execute_result",
          "data": {
            "text/plain": [
              "defaultdict(<function __main__.count_words.<locals>.<lambda>>,\n",
              "            {'__label__de': 6630,\n",
              "             '__label__en': 16444,\n",
              "             '__label__eo': 7647,\n",
              "             '__label__es': 3927,\n",
              "             '__label__fr': 4718,\n",
              "             '__label__hu': 2271,\n",
              "             '__label__it': 7759,\n",
              "             '__label__pt': 4044,\n",
              "             '__label__ru': 7387,\n",
              "             '__label__tr': 6026})"
            ]
          },
          "metadata": {},
          "execution_count": 122
        }
      ]
    },
    {
      "cell_type": "markdown",
      "metadata": {
        "id": "4FFWgDJiWdCe"
      },
      "source": [
        "Next, using the word and label counts from the previous function, we can implement the prediction function.\n",
        "\n",
        "Here, `mu` is a regularization parameter (Laplace smoothing), and `sentence` is the list of words corresponding to the test example."
      ]
    },
    {
      "cell_type": "code",
      "source": [
        "import numpy as np\n",
        "def predict(sentence, mu, label_counts, word_counts, n_examples, n_words_per_label):\n",
        "    best_label = None\n",
        "    best_score = float('-inf')\n",
        "    V= 0\n",
        "    for word in word_counts:\n",
        "      for label in word_counts[word]:\n",
        "        V+=word_counts[word][label]\n",
        "    #Prediction\n",
        "    for label in label_counts.keys():\n",
        "      score=0.0\n",
        "      # score=label_counts[label]/n_examples\n",
        "      for word in sentence:\n",
        "        score +=np.log(((mu+word_counts[word][label])/(mu*V+n_words_per_label[label])))\n",
        "      if score > best_score:\n",
        "        best_score=score\n",
        "        best_label=label\n",
        "    # print(label)\n",
        "    return best_label"
      ],
      "metadata": {
        "id": "O1eyqByeoh4O"
      },
      "execution_count": 20,
      "outputs": []
    },
    {
      "cell_type": "code",
      "source": [
        "# import numpy as np\n",
        "# def predict(sentence, mu, label_counts, word_counts, n_examples, n_words_per_label):\n",
        "#     best_label = None\n",
        "#     best_score = float('-inf')\n",
        "#     i = 0\n",
        "#     for label in word_counts.keys():\n",
        "#         score = 0.0\n",
        "#         p_j_k = label_counts[label]/n_examples\n",
        "\n",
        "#         for word in sentence:\n",
        "#             score += np.log((word_counts[label][word] + mu)/(label_counts[label] + mu*len(word_counts[label])))\n",
        "        \n",
        "#         score += np.log(label_counts[label]/n_examples)\n",
        "#         if score >= best_score:\n",
        "#             best_score = score \n",
        "#             best_label = label\n",
        "    \n",
        "#     return best_label"
      ],
      "metadata": {
        "id": "Jg7rtacmcQ-p"
      },
      "execution_count": 14,
      "outputs": []
    },
    {
      "cell_type": "code",
      "source": [
        "predict([\"I, love, my, life\"], 1, count['label_counts'], count['word_counts'], count['n_examples'], count['n_words_per_label'])"
      ],
      "metadata": {
        "colab": {
          "base_uri": "https://localhost:8080/",
          "height": 35
        },
        "id": "3tW53XbzqYSI",
        "outputId": "ca46c1c4-4507-4925-b062-4f16910ad0a5"
      },
      "execution_count": 21,
      "outputs": [
        {
          "output_type": "execute_result",
          "data": {
            "text/plain": [
              "'Ich'"
            ],
            "application/vnd.google.colaboratory.intrinsic+json": {
              "type": "string"
            }
          },
          "metadata": {},
          "execution_count": 21
        }
      ]
    },
    {
      "cell_type": "markdown",
      "metadata": {
        "id": "xoneR4OKWdCf"
      },
      "source": [
        "The next function will be used to evaluate the Naive Bayes model on a validation set. It computes the accuracy for a particular regularization parameter `mu`."
      ]
    },
    {
      "cell_type": "code",
      "execution_count": 124,
      "metadata": {
        "id": "9Ng9Li3fWdCg"
      },
      "outputs": [],
      "source": [
        "# def compute_accuracy(valid_data, mu, counts):\n",
        "#     accuracy = 0.0\n",
        "#     for label, sentence in valid_data:\n",
        "#         ## FILL CODE\n",
        "     \n",
        "#     return 0.0"
      ]
    },
    {
      "cell_type": "code",
      "source": [
        "def compute_accuracy(valid_data, mu, counts):\n",
        "    accuracy = 0.0\n",
        "    \n",
        "    label_counts=counts['label_counts'] \n",
        "    word_counts=counts['word_counts']\n",
        "    n_examples=counts[ 'n_examples']\n",
        "    n_words_per_label=counts['n_words_per_label']\n",
        "    V=0\n",
        "    # The length of the vocabulary\n",
        "    for word in word_counts:\n",
        "      for label in word_counts[word]:\n",
        "        V+=word_counts[word][label]\n",
        "    \n",
        "    for label, sentence in valid_data:\n",
        "        predict_label=predict(sentence, mu, label_counts, word_counts, n_examples, n_words_per_label)\n",
        "        # print(f\"Pred : {predict_label}, True : {label}\")\n",
        "        if predict_label==label:\n",
        "          accuracy+=1\n",
        "    return (100*accuracy)/len(valid_data)"
      ],
      "metadata": {
        "id": "ZXQ-WkeOo4hv"
      },
      "execution_count": 22,
      "outputs": []
    },
    {
      "cell_type": "code",
      "execution_count": 23,
      "metadata": {
        "id": "9TYViXlXWdCh",
        "colab": {
          "base_uri": "https://localhost:8080/"
        },
        "outputId": "61a52e13-a31a-415e-b18f-7db9d3372388"
      },
      "outputs": [
        {
          "output_type": "stream",
          "name": "stdout",
          "text": [
            "\n",
            "** Naive Bayes **\n",
            "\n",
            "Validation accuracy: 94.700\n",
            "\n"
          ]
        }
      ],
      "source": [
        "print(\"\")\n",
        "print(\"** Naive Bayes **\")\n",
        "print(\"\")\n",
        "\n",
        "mu = 1.0\n",
        "train_data = load_data(\"/content/drive/MyDrive/NLP_Week_1_Labs_2022/session1/train1.txt\")\n",
        "valid_data = load_data(\"/content/drive/MyDrive/NLP_Week_1_Labs_2022/session1/valid1.txt\")\n",
        "counts = count_words(train_data)\n",
        "\n",
        "print(\"Validation accuracy: %.3f\" % compute_accuracy(valid_data, mu, counts))\n",
        "print(\"\")"
      ]
    },
    {
      "cell_type": "code",
      "execution_count": null,
      "metadata": {
        "id": "knzrI_FzWdCh"
      },
      "outputs": [],
      "source": [
        ""
      ]
    }
  ],
  "metadata": {
    "kernelspec": {
      "display_name": "Python 3",
      "language": "python",
      "name": "python3"
    },
    "language_info": {
      "codemirror_mode": {
        "name": "ipython",
        "version": 3
      },
      "file_extension": ".py",
      "mimetype": "text/x-python",
      "name": "python",
      "nbconvert_exporter": "python",
      "pygments_lexer": "ipython3",
      "version": "3.6.2+"
    },
    "colab": {
      "name": "Copy of naive_bayes.ipynb",
      "provenance": [],
      "collapsed_sections": [],
      "include_colab_link": true
    }
  },
  "nbformat": 4,
  "nbformat_minor": 0
}